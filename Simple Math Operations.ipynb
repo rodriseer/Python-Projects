{
  "nbformat": 4,
  "nbformat_minor": 0,
  "metadata": {
    "colab": {
      "provenance": []
    },
    "kernelspec": {
      "name": "python3",
      "display_name": "Python 3"
    },
    "language_info": {
      "name": "python"
    }
  },
  "cells": [
    {
      "cell_type": "code",
      "execution_count": null,
      "metadata": {
        "id": "dRZRnonfqHws"
      },
      "outputs": [],
      "source": []
    },
    {
      "cell_type": "code",
      "source": [
        "#Rodrigo Seer\n",
        "\n",
        "\n",
        "#greeting section which takes user name\n",
        "user_name = input(\"Hello! Please, I need your name before I continue with my objective: \")\n",
        "\n",
        "#greeting printed with name\n",
        "print(\"\\nHello\", user_name,\"! I am program that will take four integer numbers and then display the largest and the lowest value integer that you input\")\n",
        "\n",
        "#number inputs with while clause\n",
        "while True:\n",
        "  try:\n",
        "    first_number=input(\"Please enter your first number: \")\n",
        "    first = int(first_number)\n",
        "\n",
        "    second_number=input(\"Please enter your second number: \")\n",
        "    second = int(second_number)\n",
        "\n",
        "    third_number=input(\"Please enter your third number: \")\n",
        "    third = int(third_number)\n",
        "\n",
        "    fourth_number=input(\"Please enter your fourth number: \")\n",
        "    fourth = int(fourth_number)\n",
        "\n",
        "    break\n",
        "#exception handling message if user input a letter\n",
        "  except:\n",
        "    print(\"Please I cannot accept letters or symbols, only numbers, try again...\\n\")\n",
        "\n",
        "#calculations of minimum and maximum values\n",
        "minimum_value = min(first, second, third, fourth)\n",
        "maximum_value = max(first, second, third, fourth)\n",
        "\n",
        "#calculation for total running number of the integers34\n",
        "total = int(first + second + third + fourth)\n",
        "\n",
        "#display results on min and max\n",
        "print(\"Thanks for the integer inputs! I ran some calculations and I found the minimum value and maximum value from your inputs!\\nThey are:\\nMinimum: \", minimum_value, \"\\nMaximum: \",maximum_value)\n",
        "\n",
        "#Display results for the total\n",
        "print(\"I also calculated the total sum of all of the integers from your inputs!\\nThe result is: \", total)\n",
        "\n",
        "\n"
      ],
      "metadata": {
        "id": "DUQPsxjwets7"
      },
      "execution_count": null,
      "outputs": []
    }
  ]
}
