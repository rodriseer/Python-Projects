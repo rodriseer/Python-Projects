{
  "cells": [
    {
      "cell_type": "code",
      "execution_count": null,
      "metadata": {
        "id": "96rS8_dYdycH"
      },
      "outputs": [],
      "source": [
        "#Rodrigo Seer\n",
        "#CMSC 206\n",
        "#I, Rodrigo Seer, am the author of this program\n",
        "\n",
        "#programmer and user name\n",
        "programmer = str(\"Rodrigo Seer\")\n",
        "user_name = input(\"Hello! May I have your name please? \")\n",
        "\n",
        "#prompt\n",
        "print (\"Hello\", user_name, \"I am a program that will display a sequence of numbers!\")\n",
        "\n",
        "#starts with 1000\n",
        "n = 1000\n",
        "print (n, end=', ')\n",
        "\n",
        "#loop, decrement by 5 until 0, break when it reaches value less than 0\n",
        "while n > 0:\n",
        "  n -= 5\n",
        "  if n < 0:\n",
        "    break\n",
        "  print(n, end=', ')\n",
        "\n",
        "\n",
        "\n",
        "\n",
        "\n",
        "\n",
        "\n"
      ]
    },
    {
      "cell_type": "code",
      "execution_count": 1,
      "metadata": {
        "id": "JXcL93x_wDg1"
      },
      "outputs": [
        {
          "name": "stdout",
          "output_type": "stream",
          "text": [
            "Hello Rodrigo I am a program that will return results from a function, using preset arguments.\n",
            "\n",
            "For reference, the values in the function 'list' are: 1, 3, 4 & 5, 10, 15, 20, 25.\n",
            "\n",
            "The values are for Total Sum, Average, Max & Min values:\n",
            "(8, 2.67, 4, 1)\n",
            "(75, 15.0, 25, 5)\n"
          ]
        }
      ],
      "source": [
        "#Rodrigo Seer\n",
        "#CMSC 206\n",
        "#I, ROdrigo Seer, am the author of this program\n",
        "\n",
        "programmer = str(\"Rodrigo Seer\")\n",
        "user_name = input(\"Hello! May I have your name please? \")\n",
        "\n",
        "#prompt\n",
        "print (\"Hello\", user_name, \"I am a program that will return results from a function, using preset arguments.\\n\")\n",
        "print (\"For reference, the values in the function 'list' are: 1, 3, 4 & 5, 10, 15, 20, 25.\\n\")\n",
        "print(\"The values are for Total Sum, Average, Max & Min values:\")\n",
        "\n",
        "#defining my function with arguments\n",
        "def Foo(arguments):\n",
        "\n",
        "#calculation for total\n",
        "  total = sum(arguments)\n",
        "#calculation for average using len (max number of items in a object)\n",
        "  average = total/len(arguments)\n",
        "#calculation for max and min\n",
        "  max_value = max(arguments)\n",
        "  min_value = min(arguments)\n",
        "\n",
        "#calling the return\n",
        "#for the round argument I used the function round, and inside the parentheses I chose how many numbers after the integer should be included, in this case, 2.\n",
        "  return total, round(average, 2), max_value, min_value\n",
        "\n",
        "  #passing the list to the function arguments\n",
        "print(Foo([1, 3, 4]))\n",
        "print(Foo([5, 10, 15, 20, 25]))\n",
        "\n",
        "\n"
      ]
    }
  ],
  "metadata": {
    "colab": {
      "provenance": []
    },
    "kernelspec": {
      "display_name": "Python 3",
      "name": "python3"
    },
    "language_info": {
      "codemirror_mode": {
        "name": "ipython",
        "version": 3
      },
      "file_extension": ".py",
      "mimetype": "text/x-python",
      "name": "python",
      "nbconvert_exporter": "python",
      "pygments_lexer": "ipython3",
      "version": "3.11.5"
    }
  },
  "nbformat": 4,
  "nbformat_minor": 0
}
